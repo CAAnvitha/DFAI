{
 "cells": [
  {
   "cell_type": "markdown",
   "metadata": {},
   "source": [
    "### Name: Anvitha Chegu Ashokkumar\n",
    "### Dragonfruit AI Assesment"
   ]
  },
  {
   "cell_type": "markdown",
   "metadata": {},
   "source": [
    "# Solution for Software Engineering Challenge\n",
    "\n",
    "## Questions\n",
    "\n",
    "1. Efficient data structure that I used for the micro organism image was converting the image to its Run Length Encoding representation where the starting index and the count of consecutive 1s is used to store the binary image representation in a much more space efficient manner. This helps in reducing the storage because the image would contain large number of consecutive 1s for the blob and these sequences can be represented by 2 integers each. Further, to fit the large image in memory while performing run length encoding, I broke down the image into 20 chunks using CHUNK_SIZE = 5000. Which breaks down the image into 20 chunks, each of shape - (5000, 100000), where the first chunk corresponds to first 5000 rows and so on. \n",
    "The same representation was used for storing dye image as well, because even though the image in this case is very sparse, RLE as it stores only 1s and not 0s, it would be able to handle the storage efficiently.\n",
    "Both the data is stored in json files and can be read later.\n",
    "\n",
    "2. For generating simulated images, I used Bezier curve which generates connected curves of arbitrary shapes. For the blob image, I generate a sufficiently large curve to fill more than 25% of the image. For the dye image, I generate multiple small curves. Finally, each curve is filled to convert into a polygon blob using skimage library. The blobs are generated of image size 1000 * 1000 initially and then scaled to required size of 100000 * 100000 using opencv library.\n",
    "\n",
    "3. The function utilizes the rle encodings represenation of images which are broken down into chunks, calculates the percentages of area covered by the dye on the blob and aggregates the results across all chunks and prints the results based on the threshold of 10% whether micro organism has cancer or not.\n",
    "\n",
    "4. The function I have written can be sped up by processing chunks in parallel using multiple threads and later once all the threads finish, aggregating the results to produce the final output. Given the time constraint, I am unable to handle the multi-thread processing for parallelizing the chunks processing for now. Decreasing the chunks size will lead to more chunks and can help in utilizing more threads, but it can also lead to a marginally increased storage requirements.\n",
    "\n",
    "5. As I have directly worked on generating full size images and not scaled down ones, the runtime of my code from generating sample images of size 100000 * 100000 and detecing cancer is around 130 seconds. While, only the detection part consumes 70 seconds. Consider the worst-case scenario where the sequence of 1s are only 1 in length, i.e. there are alternating 1s and 0s in the image. Representing the largest index in the image for the last 1 would require 34 bits as it is 10 billion and if take 8 additional bits for representing the count (in this case 1 bit is sufficient as they are alternating 1s and 0s), then total bits required per occurence of 1 is 42 bits. Which is 5.25 Bytes. Total occurrences of 1s would be (100000 * 100000)/2 = 5 billion. Hence, we would need 5 billion * 42 bits in the worst case scenario, which is approximately 26 MB in size. Another compressing technique would be to combine both the images and then doing RLE for storing. This would significantly reduce the storage space.\n",
    "\n",
    "6. Major tools used for the challenge of stackoverflow for looking at random image generation techniques and converting curves to polygons. ChatGPT was used for the above as well along with Perplexit.ai. LLM tools mentioned were also used for understanding Run Length Encoding and implementing the alogirthm."
   ]
  },
  {
   "cell_type": "code",
   "execution_count": 1,
   "metadata": {},
   "outputs": [
    {
     "name": "stdout",
     "output_type": "stream",
     "text": [
      "Requirement already satisfied: opencv-python in /Users/anvithachegu/anaconda3/lib/python3.11/site-packages (4.8.1.78)\n",
      "Requirement already satisfied: numpy>=1.21.2 in /Users/anvithachegu/anaconda3/lib/python3.11/site-packages (from opencv-python) (1.24.3)\n",
      "Note: you may need to restart the kernel to use updated packages.\n"
     ]
    }
   ],
   "source": [
    "#pip install opencv-python"
   ]
  },
  {
   "cell_type": "code",
   "execution_count": 2,
   "metadata": {},
   "outputs": [],
   "source": [
    "import matplotlib.pyplot as plt\n",
    "import numpy as np\n",
    "from scipy.special import binom\n",
    "import skimage.draw as draw\n",
    "import cv2\n",
    "from tqdm.notebook import tqdm\n",
    "import json"
   ]
  },
  {
   "cell_type": "markdown",
   "metadata": {},
   "source": [
    "### Utilities for generating random micro organism images and dye images of size 100000*100000"
   ]
  },
  {
   "cell_type": "markdown",
   "metadata": {},
   "source": [
    "Here I use Bezier curve for generating the random images of micro organism blob and dye spread. Referred from [Stackoverflow](https://stackoverflow.com/questions/50731785/create-random-shape-contour-using-matplotlib)"
   ]
  },
  {
   "cell_type": "code",
   "execution_count": 3,
   "metadata": {},
   "outputs": [],
   "source": [
    "bernstein = lambda n, k, t: binom(n,k)* t**k * (1.-t)**(n-k)\n",
    "\n",
    "def bezier(points, num=200):\n",
    "    N = len(points)\n",
    "    t = np.linspace(0, 1, num=num)\n",
    "    curve = np.zeros((num, 2))\n",
    "    for i in range(N):\n",
    "        curve += np.outer(bernstein(N - 1, i, t), points[i])\n",
    "    return curve\n",
    "\n",
    "class Segment():\n",
    "    def __init__(self, p1, p2, angle1, angle2, **kw):\n",
    "        self.p1 = p1; self.p2 = p2\n",
    "        self.angle1 = angle1; self.angle2 = angle2\n",
    "        self.numpoints = kw.get(\"numpoints\", 100)\n",
    "        r = kw.get(\"r\", 0.3)\n",
    "        d = np.sqrt(np.sum((self.p2-self.p1)**2))\n",
    "        self.r = r*d\n",
    "        self.p = np.zeros((4,2))\n",
    "        self.p[0,:] = self.p1[:]\n",
    "        self.p[3,:] = self.p2[:]\n",
    "        self.calc_intermediate_points(self.r)\n",
    "\n",
    "    def calc_intermediate_points(self,r):\n",
    "        self.p[1,:] = self.p1 + np.array([self.r*np.cos(self.angle1),\n",
    "                                    self.r*np.sin(self.angle1)])\n",
    "        self.p[2,:] = self.p2 + np.array([self.r*np.cos(self.angle2+np.pi),\n",
    "                                    self.r*np.sin(self.angle2+np.pi)])\n",
    "        self.curve = bezier(self.p,self.numpoints)\n",
    "\n",
    "\n",
    "def get_curve(points, **kw):\n",
    "    segments = []\n",
    "    for i in range(len(points)-1):\n",
    "        seg = Segment(points[i,:2], points[i+1,:2], points[i,2],points[i+1,2],**kw)\n",
    "        segments.append(seg)\n",
    "    curve = np.concatenate([s.curve for s in segments])\n",
    "    return segments, curve\n",
    "\n",
    "def ccw_sort(p):\n",
    "    d = p-np.mean(p,axis=0)\n",
    "    s = np.arctan2(d[:,0], d[:,1])\n",
    "    return p[np.argsort(s),:]\n",
    "\n",
    "def get_bezier_curve(a, rad=0.2, edgy=0):\n",
    "    \"\"\" given an array of points *a*, create a curve through\n",
    "    those points. \n",
    "    rad = is a number between 0 and 1 to steer the distance of\n",
    "          control points.\n",
    "    edgy = controls the smoothness of the curve, with edgy=0 being the smoothest.\n",
    "    \"\"\"\n",
    "    p = np.arctan(edgy)/np.pi+.5\n",
    "    a = ccw_sort(a)\n",
    "    a = np.append(a, np.atleast_2d(a[0,:]), axis=0)\n",
    "    d = np.diff(a, axis=0)\n",
    "    ang = np.arctan2(d[:,1],d[:,0])\n",
    "    f = lambda ang : (ang>=0)*ang + (ang<0)*(ang+2*np.pi)\n",
    "    ang = f(ang)\n",
    "    ang1 = ang\n",
    "    ang2 = np.roll(ang,1)\n",
    "    ang = p*ang1 + (1-p)*ang2 + (np.abs(ang2-ang1) > np.pi )*np.pi\n",
    "    ang = np.append(ang, [ang[0]])\n",
    "    a = np.append(a, np.atleast_2d(ang).T, axis=1)\n",
    "    s, c = get_curve(a, r=rad, method=\"var\")\n",
    "    x,y = c.T\n",
    "    return x,y, a\n",
    "\n",
    "\n",
    "def get_random_points(n=5, scale=0.8, mindst=None, rec=0):\n",
    "    \"\"\" create n random points in the unit square, which are *mindst*\n",
    "    apart, then scale them.\"\"\"\n",
    "    mindst = mindst or .7/n\n",
    "    a = np.random.rand(n,2)\n",
    "    d = np.sqrt(np.sum(np.diff(ccw_sort(a), axis=0), axis=1)**2)\n",
    "    if np.all(d >= mindst) or rec>=200:\n",
    "        return a*scale\n",
    "    else:\n",
    "        return get_random_points(n=n, scale=scale, mindst=mindst, rec=rec+1)"
   ]
  },
  {
   "cell_type": "markdown",
   "metadata": {},
   "source": [
    "### Method for generating random image with a blob of the micro organism body using Bezier curve."
   ]
  },
  {
   "cell_type": "code",
   "execution_count": 4,
   "metadata": {},
   "outputs": [],
   "source": [
    "def get_random_microorganism_image():\n",
    "    \"\"\"\n",
    "    Returns an image with a randomly generated blob representing micro organism body.\n",
    "    draw.polygon is used to form a filled polygon from the bezier curve recieved as 2d coordinates.\n",
    "\n",
    "    The image is generated first is of size 1000*1000 which is then scaled up to 100000*100000 using cv2. This helps in efficiently generating testing samples.\n",
    "    \"\"\"\n",
    "    rad = 0.2\n",
    "    edgy = 0.05\n",
    "    shape = (1000, 1000)\n",
    "    image = np.zeros(shape, dtype=np.uint8)\n",
    "    c = [0,0]\n",
    "    a = get_random_points(n=7, scale=shape[0]) + c\n",
    "    x,y, _ = get_bezier_curve(a,rad=rad, edgy=edgy)\n",
    "    rr, cc = draw.polygon(x, y, shape=shape)\n",
    "    image[rr, cc] = 1\n",
    "    image = cv2.resize(image, dsize=(100000, 100000), interpolation=cv2.INTER_LINEAR)\n",
    "\n",
    "    return image"
   ]
  },
  {
   "cell_type": "markdown",
   "metadata": {},
   "source": [
    "### Method for generating random image with several small blobs representing dye spread using Bezier curve."
   ]
  },
  {
   "cell_type": "code",
   "execution_count": 5,
   "metadata": {},
   "outputs": [],
   "source": [
    "def get_dye_image(scale=100):\n",
    "    \"\"\"\n",
    "    Returns an image with randomly generated blobs representing dye spread.\n",
    "    The method randomly generates between 3 to 10 datapoints that serve as center for the blobs to be generated.\n",
    "    draw.polygon is used to form a filled polygon from the bezier curve recieved as 2d coordinates.\n",
    "\n",
    "    The image is generated first is of size 1000*1000 which is then scaled up to 100000*100000 using cv2. This helps in efficiently generating testing samples.\n",
    "\n",
    "    scale = Scale parameter controls the size of the blob which will help for testing with different percentage of dye spread in the micro organism.\n",
    "    \"\"\"\n",
    "    rad = 0.2\n",
    "    edgy = 0.05\n",
    "    shape = (1000, 1000)\n",
    "    image = np.zeros((1000, 1000), dtype=np.uint8)\n",
    "    num_elements = np.random.randint(3, 10)\n",
    "    cs = np.random.rand(num_elements, 2) * 1000\n",
    "    for c in cs:\n",
    "        a = get_random_points(n=7, scale=scale) + c\n",
    "        x,y, _ = get_bezier_curve(a,rad=rad, edgy=edgy)\n",
    "        rr, cc = draw.polygon(x, y, shape=shape)\n",
    "        image[rr, cc] = 1\n",
    "\n",
    "    image = cv2.resize(image, dsize=(100000, 100000), interpolation=cv2.INTER_LINEAR)\n",
    "    return image\n"
   ]
  },
  {
   "cell_type": "markdown",
   "metadata": {},
   "source": [
    "### Method for encoding image using Run Length Encoding. \n",
    "Only consecutive 1s as count and starting index are stored. 0s are completely ommitted. Hence, this appraoch serves its purpose for sparse matrices as well as we are not storing 0s."
   ]
  },
  {
   "cell_type": "code",
   "execution_count": 6,
   "metadata": {},
   "outputs": [],
   "source": [
    "def encode_image_to_rle(mask):\n",
    "    '''\n",
    "    mask: numpy array binary mask \n",
    "    1 - mask \n",
    "    0 - background\n",
    "    Returns encoded run length \n",
    "    '''\n",
    "    pixels = mask.flatten()\n",
    "    pixels = np.concatenate([[0], pixels, [0]])\n",
    "    runs = np.where(pixels[1:] != pixels[:-1])[0] + 1\n",
    "    runs[1::2] -= runs[::2]\n",
    "    return ' '.join(str(x) for x in runs)\n"
   ]
  },
  {
   "cell_type": "markdown",
   "metadata": {},
   "source": [
    "Decoding method converts a rle encoding to image given width and height of the final output."
   ]
  },
  {
   "cell_type": "code",
   "execution_count": 7,
   "metadata": {},
   "outputs": [],
   "source": [
    "def decode_rle_to_image(rle, height, width):\n",
    "    '''\n",
    "    rle : run-length as string formated (start value, count)\n",
    "    height : height of the mask \n",
    "    width : width of the mask\n",
    "    returns binary mask\n",
    "    '''\n",
    "    rle = np.array(rle.split(' ')).reshape(-1, 2)\n",
    "    mask = np.zeros((height*width))\n",
    "\n",
    "    for i in rle:\n",
    "        mask[int(i[0]):int(i[0])+int(i[1])] = 1\n",
    "\n",
    "    return mask.reshape(height, width)"
   ]
  },
  {
   "cell_type": "markdown",
   "metadata": {},
   "source": [
    "## Chunks used for processing\n",
    "\n",
    "Because of resource constraints, and faster processing, we break down the images into chunks of CHUNK_SIZE * 100000. Hence, with chunk size of 5000, the image will be broken into 20 chunks of 5000 rows and 100000 columns. This will help us efficiently process them for checking cancer. While this increase the storage size by a small margin. It increases the speed of processing and significantly decreases the processing done on the whole image. It will also help in parallelization as separate chunks can be processed parallely."
   ]
  },
  {
   "cell_type": "code",
   "execution_count": 8,
   "metadata": {},
   "outputs": [],
   "source": [
    "CHUNK_SIZE = 5000"
   ]
  },
  {
   "cell_type": "markdown",
   "metadata": {},
   "source": [
    "### Method for computing RLE encodings of the image chunk by chunk.\n",
    "It returns an array of rle encodings of all the chunks sequentially in the image."
   ]
  },
  {
   "cell_type": "code",
   "execution_count": 9,
   "metadata": {},
   "outputs": [],
   "source": [
    "def get_chunk_rle_encodings(image):\n",
    "    \"\"\"\n",
    "    Takes image of shape 100000*100000 and iterates over it chunk by chunk of size CHUNK_SIZE*100000 and encodes it using RLE.\n",
    "    Output is a list of RLE encodings for each chunk.\n",
    "    \"\"\"\n",
    "    rle_encodings = []\n",
    "    for i in tqdm(range(0, 100000, CHUNK_SIZE)):\n",
    "        rle_encodings.append(encode_image_to_rle(image[i:i+CHUNK_SIZE]))\n",
    "    return rle_encodings"
   ]
  },
  {
   "cell_type": "markdown",
   "metadata": {},
   "source": [
    "### Masking\n",
    "Takes to corresponding chunks from blob image and dye image and applies the first chunk as mask for the second image. This ensures that any dye which is outside the blob is not considere.\n",
    "Then it calculates the percentage of area in the chunk covered by the blob and percentage of area in the chunk covered by the newly masked dye and returns these 2 values.\n",
    "\n",
    "Both the the chunks correspond to the same number of rows in the images."
   ]
  },
  {
   "cell_type": "code",
   "execution_count": 10,
   "metadata": {},
   "outputs": [],
   "source": [
    "def mask_chunk(image_mask_chunk, dye_mask_chunk):\n",
    "    \"\"\"\n",
    "    Takes 2 images chunks of size CHUNK_SIZE*100000, first for blob image and second for \n",
    "    The chunks correspond to the same row indices in their respective images.\n",
    "\n",
    "    First we apply blob chunk as mask on the dye chunk, which eliminate any dyes outside the blob region.\n",
    "    Then we calcuate the percentage of area covered by blob in its chunk and dye in its masked chunk.\n",
    "\n",
    "    outputs are the above 2 percentatges.\n",
    "    \"\"\"\n",
    "    mask1, mask2 = image_mask_chunk, dye_mask_chunk\n",
    "    masked_mask2 = np.where(mask1 == 1, mask2, 0)\n",
    "    percentage_mask1 = np.count_nonzero(mask1 == 1) / mask1.size * 100\n",
    "    percentage_mask2 = np.count_nonzero(masked_mask2 == 1) / masked_mask2.size * 100\n",
    "    return percentage_mask1, percentage_mask2"
   ]
  },
  {
   "cell_type": "markdown",
   "metadata": {},
   "source": [
    "## Detect Cancer\n",
    "Utilizes RLE encodings of the 2 images and prints the percentage of area covered by micro organism in image and dye in micro organism and prints whether the micro organism has cancer or not."
   ]
  },
  {
   "cell_type": "code",
   "execution_count": 11,
   "metadata": {},
   "outputs": [],
   "source": [
    "def detect_cancer(rle_encodings_image, rle_encodings_dye):\n",
    "    \"\"\"\n",
    "    Takes in 2 lists of rle encodings. One for blob image and second for dye image.\n",
    "    We iterate over the lists together, taking encodings for the same row indices chunks for both the images and decode them.\n",
    "    We decode the chunk encodings and use mask_chunk method to get the percentages of areas covered by blob in chunk and dye in chunk which is inside blob.\n",
    "    After calculating percentages of all the chunks, we take the sum for both the images and normalize it by the number of chunks.\n",
    "    First percentage gives us the percentage of area covered by blob in image.\n",
    "    Second percentage divided by first one gives the percentage of area covered by dye in the blob.\n",
    "\n",
    "    We print the results and check if second value is greater than 10 to determine whether micro organism has cancer or not.\n",
    "    \"\"\"\n",
    "    percentages1 = []\n",
    "    percentages2 = []\n",
    "    for i, (rle_image, rle_dye) in enumerate(tqdm(zip(rle_encodings_image, rle_encodings_dye), total=len(rle_encodings_image))):\n",
    "        if rle_image != '':\n",
    "            image_mask_chunk = decode_rle_to_image(rle_image, CHUNK_SIZE, 100000)\n",
    "\n",
    "            dye_mask_chunk = np.zeros((CHUNK_SIZE, 100000))\n",
    "            if rle_dye != '':\n",
    "                dye_mask_chunk = decode_rle_to_image(rle_dye, CHUNK_SIZE, 100000)\n",
    "\n",
    "            percentage_mask1, percentage_mask2 = mask_chunk(image_mask_chunk, dye_mask_chunk)\n",
    "            percentages1.append(percentage_mask1)\n",
    "            percentages2.append(percentage_mask2)\n",
    "        else:\n",
    "            percentages1.append(0)\n",
    "            percentages2.append(0)\n",
    "\n",
    "        # decoded_image[start:end] = mask\n",
    "    blob_percentage = sum(percentages1)/len(rle_encodings_image)\n",
    "    dye_percentage = sum(percentages2)/len(rle_encodings_image)\n",
    "    cancer_percentage = dye_percentage/blob_percentage*100\n",
    "\n",
    "    print(f\"Area in the image covered by blob: {blob_percentage}%\")\n",
    "    print(f\"Area of the blob where dye has spread: {cancer_percentage}%\")\n",
    "    print(f\"Does the micro organism has cancer: {cancer_percentage > 10}\")"
   ]
  },
  {
   "cell_type": "markdown",
   "metadata": {},
   "source": [
    "## Testing"
   ]
  },
  {
   "cell_type": "markdown",
   "metadata": {},
   "source": [
    "All image display is done in the size of 10000 * 10000. But actual image sizes being worked on is 100000 * 100000"
   ]
  },
  {
   "cell_type": "markdown",
   "metadata": {},
   "source": [
    "### Test case 1 - False case"
   ]
  },
  {
   "cell_type": "code",
   "execution_count": 12,
   "metadata": {},
   "outputs": [
    {
     "name": "stdout",
     "output_type": "stream",
     "text": [
      "Shape of blob image: (100000, 100000)\n",
      "Shape of dye image: (100000, 100000)\n"
     ]
    },
    {
     "data": {
      "image/png": "[encoded data removed]",
      "text/plain": [
       "<Figure size 1000x2000 with 2 Axes>"
      ]
     },
     "metadata": {},
     "output_type": "display_data"
    },
    {
     "name": "stdout",
     "output_type": "stream",
     "text": [
      "\n"
     ]
    },
    {
     "data": {
      "application/vnd.jupyter.widget-view+json": {
       "model_id": "ca0264deacb047e9bb08a3369f973eb0",
       "version_major": 2,
       "version_minor": 0
      },
      "text/plain": [
       "  0%|          | 0/20 [00:00<?, ?it/s]"
      ]
     },
     "metadata": {},
     "output_type": "display_data"
    },
    {
     "data": {
      "application/vnd.jupyter.widget-view+json": {
       "model_id": "b958cb8a852d4520ab6378527b4751e8",
       "version_major": 2,
       "version_minor": 0
      },
      "text/plain": [
       "  0%|          | 0/20 [00:00<?, ?it/s]"
      ]
     },
     "metadata": {},
     "output_type": "display_data"
    }
   ],
   "source": [
    "image_id = 1\n",
    "\n",
    "fig, axes = plt.subplots(1, 2, figsize=(10, 20))\n",
    "\n",
    "image = get_random_microorganism_image()\n",
    "axes[0].imshow(cv2.bitwise_not(cv2.resize(image, dsize=(10000, 10000), interpolation=cv2.INTER_LINEAR)), cmap='gray')\n",
    "\n",
    "image_dye = get_dye_image()\n",
    "axes[1].imshow(cv2.bitwise_not(cv2.resize(image_dye, dsize=(10000, 10000), interpolation=cv2.INTER_LINEAR)), cmap='gray')\n",
    "\n",
    "print(f\"Shape of blob image: {image.shape}\")\n",
    "print(f\"Shape of dye image: {image_dye.shape}\")\n",
    "plt.show()\n",
    "\n",
    "print()\n",
    "rle_encodings_image = get_chunk_rle_encodings(image)\n",
    "rle_encodings_dye = get_chunk_rle_encodings(image_dye)\n",
    "\n",
    "data = {\n",
    "    'blob': rle_encodings_image,\n",
    "    'dye': rle_encodings_dye\n",
    "}\n",
    "json.dump(data, open(f'rle_image_{image_id}.json', 'w'))"
   ]
  },
  {
   "cell_type": "code",
   "execution_count": 13,
   "metadata": {},
   "outputs": [
    {
     "data": {
      "application/vnd.jupyter.widget-view+json": {
       "model_id": "4eb8cb43d88041f08171fda599726823",
       "version_major": 2,
       "version_minor": 0
      },
      "text/plain": [
       "  0%|          | 0/20 [00:00<?, ?it/s]"
      ]
     },
     "metadata": {},
     "output_type": "display_data"
    },
    {
     "name": "stdout",
     "output_type": "stream",
     "text": [
      "Area in the image covered by blob: 41.54971701%\n",
      "Area of the blob where dye has spread: 1.928845989028314%\n",
      "Does the micro organism has cancer: False\n"
     ]
    }
   ],
   "source": [
    "data = json.load(open(f'rle_image_{image_id}.json'))\n",
    "rle_encodings_image, rle_encodings_dye = data['blob'], data['dye']\n",
    "detect_cancer(rle_encodings_image, rle_encodings_dye)"
   ]
  },
  {
   "cell_type": "markdown",
   "metadata": {},
   "source": [
    "### Test case 2 - True case"
   ]
  },
  {
   "cell_type": "code",
   "execution_count": 14,
   "metadata": {},
   "outputs": [
    {
     "name": "stdout",
     "output_type": "stream",
     "text": [
      "Shape of blob image: (100000, 100000)\n",
      "Shape of dye image: (100000, 100000)\n"
     ]
    },
    {
     "data": {
      "image/png": "[encoded data removed]",
      "text/plain": [
       "<Figure size 1000x2000 with 2 Axes>"
      ]
     },
     "metadata": {},
     "output_type": "display_data"
    },
    {
     "name": "stdout",
     "output_type": "stream",
     "text": [
      "\n"
     ]
    },
    {
     "data": {
      "application/vnd.jupyter.widget-view+json": {
       "model_id": "2a2c9a26eb094a6387ef4bbf14194971",
       "version_major": 2,
       "version_minor": 0
      },
      "text/plain": [
       "  0%|          | 0/20 [00:00<?, ?it/s]"
      ]
     },
     "metadata": {},
     "output_type": "display_data"
    },
    {
     "data": {
      "application/vnd.jupyter.widget-view+json": {
       "model_id": "e3e493d3e4014a649c8e013601636095",
       "version_major": 2,
       "version_minor": 0
      },
      "text/plain": [
       "  0%|          | 0/20 [00:00<?, ?it/s]"
      ]
     },
     "metadata": {},
     "output_type": "display_data"
    }
   ],
   "source": [
    "image_id = 2\n",
    "\n",
    "fig, axes = plt.subplots(1, 2, figsize=(10, 20))\n",
    "\n",
    "image = get_random_microorganism_image()\n",
    "axes[0].imshow(cv2.bitwise_not(cv2.resize(image, dsize=(10000, 10000), interpolation=cv2.INTER_LINEAR)), cmap='gray')\n",
    "\n",
    "# increasing scale to generate bigger dye spreads for positive cancer case\n",
    "image_dye = get_dye_image(scale=300)\n",
    "axes[1].imshow(cv2.bitwise_not(cv2.resize(image_dye, dsize=(10000, 10000), interpolation=cv2.INTER_LINEAR)), cmap='gray')\n",
    "\n",
    "print(f\"Shape of blob image: {image.shape}\")\n",
    "print(f\"Shape of dye image: {image_dye.shape}\")\n",
    "plt.show()\n",
    "\n",
    "print()\n",
    "rle_encodings_image = get_chunk_rle_encodings(image)\n",
    "rle_encodings_dye = get_chunk_rle_encodings(image_dye)\n",
    "\n",
    "data = {\n",
    "    'blob': rle_encodings_image,\n",
    "    'dye': rle_encodings_dye\n",
    "}\n",
    "json.dump(data, open(f'rle_image_{image_id}.json', 'w'))"
   ]
  },
  {
   "cell_type": "code",
   "execution_count": 15,
   "metadata": {},
   "outputs": [
    {
     "data": {
      "application/vnd.jupyter.widget-view+json": {
       "model_id": "8ef267327e4c4580a2f7db350bda69f8",
       "version_major": 2,
       "version_minor": 0
      },
      "text/plain": [
       "  0%|          | 0/20 [00:00<?, ?it/s]"
      ]
     },
     "metadata": {},
     "output_type": "display_data"
    },
    {
     "name": "stdout",
     "output_type": "stream",
     "text": [
      "Area in the image covered by blob: 24.702449009999995%\n",
      "Area of the blob where dye has spread: 4.956889211690353%\n",
      "Does the micro organism has cancer: False\n"
     ]
    }
   ],
   "source": [
    "data = json.load(open(f'rle_image_{image_id}.json'))\n",
    "rle_encodings_image, rle_encodings_dye = data['blob'], data['dye']\n",
    "detect_cancer(rle_encodings_image, rle_encodings_dye)"
   ]
  },
  {
   "cell_type": "code",
   "execution_count": null,
   "metadata": {},
   "outputs": [],
   "source": []
  }
 ],
 "metadata": {
  "kernelspec": {
   "display_name": "Python 3 (ipykernel)",
   "language": "python",
   "name": "python3"
  },
  "language_info": {
   "codemirror_mode": {
    "name": "ipython",
    "version": 3
   },
   "file_extension": ".py",
   "mimetype": "text/x-python",
   "name": "python",
   "nbconvert_exporter": "python",
   "pygments_lexer": "ipython3",
   "version": "3.11.4"
  }
 },
 "nbformat": 4,
 "nbformat_minor": 2
}
